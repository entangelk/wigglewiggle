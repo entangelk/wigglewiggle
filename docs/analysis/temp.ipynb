{
 "cells": [
  {
   "cell_type": "code",
   "execution_count": 1,
   "metadata": {},
   "outputs": [],
   "source": [
    "import pandas as pd"
   ]
  },
  {
   "cell_type": "code",
   "execution_count": 8,
   "metadata": {},
   "outputs": [],
   "source": [
    "analysisdata = pd.read_json('../data/getseedcorpdata.json')"
   ]
  },
  {
   "cell_type": "code",
   "execution_count": 9,
   "metadata": {},
   "outputs": [
    {
     "data": {
      "text/html": [
       "<div>\n",
       "<style scoped>\n",
       "    .dataframe tbody tr th:only-of-type {\n",
       "        vertical-align: middle;\n",
       "    }\n",
       "\n",
       "    .dataframe tbody tr th {\n",
       "        vertical-align: top;\n",
       "    }\n",
       "\n",
       "    .dataframe thead th {\n",
       "        text-align: right;\n",
       "    }\n",
       "</style>\n",
       "<table border=\"1\" class=\"dataframe\">\n",
       "  <thead>\n",
       "    <tr style=\"text-align: right;\">\n",
       "      <th></th>\n",
       "      <th>successMsg</th>\n",
       "      <th>data</th>\n",
       "      <th>success</th>\n",
       "    </tr>\n",
       "  </thead>\n",
       "  <tbody>\n",
       "    <tr>\n",
       "      <th>products</th>\n",
       "      <td>success</td>\n",
       "      <td>[{'id': 'PD00012796', 'name': '위글위글', 'logoImg...</td>\n",
       "      <td>True</td>\n",
       "    </tr>\n",
       "    <tr>\n",
       "      <th>similarCorps</th>\n",
       "      <td>success</td>\n",
       "      <td>[{'corpId': 'CP00017523', 'bizNameKr': '커머스,패션...</td>\n",
       "      <td>True</td>\n",
       "    </tr>\n",
       "    <tr>\n",
       "      <th>mau</th>\n",
       "      <td>success</td>\n",
       "      <td>{'recentUpdate': '2024-04-24', 'list': [{'prod...</td>\n",
       "      <td>True</td>\n",
       "    </tr>\n",
       "    <tr>\n",
       "      <th>customerSales</th>\n",
       "      <td>success</td>\n",
       "      <td>{'recentUpdate': '2024-04-24', 'salesBasic': [...</td>\n",
       "      <td>True</td>\n",
       "    </tr>\n",
       "    <tr>\n",
       "      <th>customerType</th>\n",
       "      <td>success</td>\n",
       "      <td>{'recentUpdate': '2024-04-24', 'salesPerson': ...</td>\n",
       "      <td>True</td>\n",
       "    </tr>\n",
       "    <tr>\n",
       "      <th>investment</th>\n",
       "      <td>success</td>\n",
       "      <td>{'recentUpdate': '2022-10-04', 'lastInvestment...</td>\n",
       "      <td>True</td>\n",
       "    </tr>\n",
       "    <tr>\n",
       "      <th>organization</th>\n",
       "      <td>success</td>\n",
       "      <td>{'recentUpdate': '2024-04-24', 'retireRate': 3...</td>\n",
       "      <td>True</td>\n",
       "    </tr>\n",
       "    <tr>\n",
       "      <th>dataSufficient</th>\n",
       "      <td>success</td>\n",
       "      <td>True</td>\n",
       "      <td>True</td>\n",
       "    </tr>\n",
       "  </tbody>\n",
       "</table>\n",
       "</div>"
      ],
      "text/plain": [
       "               successMsg                                               data  \\\n",
       "products          success  [{'id': 'PD00012796', 'name': '위글위글', 'logoImg...   \n",
       "similarCorps      success  [{'corpId': 'CP00017523', 'bizNameKr': '커머스,패션...   \n",
       "mau               success  {'recentUpdate': '2024-04-24', 'list': [{'prod...   \n",
       "customerSales     success  {'recentUpdate': '2024-04-24', 'salesBasic': [...   \n",
       "customerType      success  {'recentUpdate': '2024-04-24', 'salesPerson': ...   \n",
       "investment        success  {'recentUpdate': '2022-10-04', 'lastInvestment...   \n",
       "organization      success  {'recentUpdate': '2024-04-24', 'retireRate': 3...   \n",
       "dataSufficient    success                                               True   \n",
       "\n",
       "                success  \n",
       "products           True  \n",
       "similarCorps       True  \n",
       "mau                True  \n",
       "customerSales      True  \n",
       "customerType       True  \n",
       "investment         True  \n",
       "organization       True  \n",
       "dataSufficient     True  "
      ]
     },
     "execution_count": 9,
     "metadata": {},
     "output_type": "execute_result"
    }
   ],
   "source": [
    "analysisdata"
   ]
  },
  {
   "cell_type": "code",
   "execution_count": 7,
   "metadata": {},
   "outputs": [
    {
     "data": {
      "text/html": [
       "<div>\n",
       "<style scoped>\n",
       "    .dataframe tbody tr th:only-of-type {\n",
       "        vertical-align: middle;\n",
       "    }\n",
       "\n",
       "    .dataframe tbody tr th {\n",
       "        vertical-align: top;\n",
       "    }\n",
       "\n",
       "    .dataframe thead th {\n",
       "        text-align: right;\n",
       "    }\n",
       "</style>\n",
       "<table border=\"1\" class=\"dataframe\">\n",
       "  <thead>\n",
       "    <tr style=\"text-align: right;\">\n",
       "      <th></th>\n",
       "      <th>data</th>\n",
       "    </tr>\n",
       "  </thead>\n",
       "  <tbody>\n",
       "    <tr>\n",
       "      <th>products</th>\n",
       "      <td>[{'id': 'PD00012796', 'name': '위글위글', 'logoImg...</td>\n",
       "    </tr>\n",
       "    <tr>\n",
       "      <th>similarCorps</th>\n",
       "      <td>[{'corpId': 'CP00017523', 'bizNameKr': '커머스,패션...</td>\n",
       "    </tr>\n",
       "    <tr>\n",
       "      <th>mau</th>\n",
       "      <td>{'recentUpdate': '2024-04-24', 'list': [{'prod...</td>\n",
       "    </tr>\n",
       "    <tr>\n",
       "      <th>customerSales</th>\n",
       "      <td>{'recentUpdate': '2024-04-24', 'salesBasic': [...</td>\n",
       "    </tr>\n",
       "    <tr>\n",
       "      <th>customerType</th>\n",
       "      <td>{'recentUpdate': '2024-04-24', 'salesPerson': ...</td>\n",
       "    </tr>\n",
       "    <tr>\n",
       "      <th>investment</th>\n",
       "      <td>{'recentUpdate': '2022-10-04', 'lastInvestment...</td>\n",
       "    </tr>\n",
       "    <tr>\n",
       "      <th>organization</th>\n",
       "      <td>{'recentUpdate': '2024-04-24', 'retireRate': 3...</td>\n",
       "    </tr>\n",
       "    <tr>\n",
       "      <th>dataSufficient</th>\n",
       "      <td>True</td>\n",
       "    </tr>\n",
       "  </tbody>\n",
       "</table>\n",
       "</div>"
      ],
      "text/plain": [
       "                                                             data\n",
       "products        [{'id': 'PD00012796', 'name': '위글위글', 'logoImg...\n",
       "similarCorps    [{'corpId': 'CP00017523', 'bizNameKr': '커머스,패션...\n",
       "mau             {'recentUpdate': '2024-04-24', 'list': [{'prod...\n",
       "customerSales   {'recentUpdate': '2024-04-24', 'salesBasic': [...\n",
       "customerType    {'recentUpdate': '2024-04-24', 'salesPerson': ...\n",
       "investment      {'recentUpdate': '2022-10-04', 'lastInvestment...\n",
       "organization    {'recentUpdate': '2024-04-24', 'retireRate': 3...\n",
       "dataSufficient                                               True"
      ]
     },
     "execution_count": 7,
     "metadata": {},
     "output_type": "execute_result"
    }
   ],
   "source": [
    "analysisdata['data'].to_frame()"
   ]
  },
  {
   "cell_type": "code",
   "execution_count": null,
   "metadata": {},
   "outputs": [],
   "source": []
  }
 ],
 "metadata": {
  "kernelspec": {
   "display_name": "Python 3",
   "language": "python",
   "name": "python3"
  },
  "language_info": {
   "codemirror_mode": {
    "name": "ipython",
    "version": 3
   },
   "file_extension": ".py",
   "mimetype": "text/x-python",
   "name": "python",
   "nbconvert_exporter": "python",
   "pygments_lexer": "ipython3",
   "version": "3.11.9"
  }
 },
 "nbformat": 4,
 "nbformat_minor": 2
}
