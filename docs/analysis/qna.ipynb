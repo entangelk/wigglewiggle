{
 "cells": [
  {
   "cell_type": "code",
   "execution_count": 83,
   "metadata": {},
   "outputs": [],
   "source": [
    "import pandas as pd\n",
    "import matplotlib.pyplot as plt\n",
    "import seaborn as sns\n",
    "import numpy as np\n",
    "\n",
    "from datetime import datetime\n",
    "\n",
    "import warnings\n",
    "warnings.filterwarnings('ignore')\n",
    "\n",
    "plt.rcParams['font.family'] = 'Malgun Gothic'\n",
    "# plt.rcParams['font.family'] = 'BMJUA_ttf'"
   ]
  },
  {
   "cell_type": "code",
   "execution_count": 13,
   "metadata": {},
   "outputs": [],
   "source": [
    "df_qna = pd.read_csv('../data/wiggle.qna.csv')"
   ]
  },
  {
   "cell_type": "code",
   "execution_count": 4,
   "metadata": {},
   "outputs": [],
   "source": [
    "df_product = pd.read_csv('../data/wiggle.product.csv')"
   ]
  },
  {
   "cell_type": "markdown",
   "metadata": {},
   "source": [
    "## 데이터 전처리"
   ]
  },
  {
   "cell_type": "markdown",
   "metadata": {},
   "source": [
    "### 결측치 변환 / id열 제거"
   ]
  },
  {
   "cell_type": "code",
   "execution_count": 54,
   "metadata": {},
   "outputs": [],
   "source": [
    "df_qna = df_qna.fillna('-')"
   ]
  },
  {
   "cell_type": "code",
   "execution_count": 7,
   "metadata": {},
   "outputs": [],
   "source": [
    "df_product = df_product.drop(columns='_id')"
   ]
  },
  {
   "cell_type": "markdown",
   "metadata": {},
   "source": [
    "### 상품 카테고리 번호 지정"
   ]
  },
  {
   "cell_type": "code",
   "execution_count": 63,
   "metadata": {},
   "outputs": [],
   "source": [
    "df_product['catagory_index'] = df_product.index.to_list()\n",
    "df_product['full_category'] = df_product['large_category'] + ' ' + df_product['middle_category'] + ' ' + df_product['small_category']"
   ]
  },
  {
   "cell_type": "markdown",
   "metadata": {},
   "source": [
    "### qna 상품 카테고리 번호 지정"
   ]
  },
  {
   "cell_type": "code",
   "execution_count": 77,
   "metadata": {},
   "outputs": [],
   "source": [
    "# 카테고리 부여 함수 제작\n",
    "def get_category(getlist,issame,fullcate):\n",
    "    category_list = []\n",
    "    cate_name_list = []\n",
    "    issame = issame.to_list()\n",
    "    for i in getlist:\n",
    "        if i == '-':\n",
    "            category_list.append(np.nan)\n",
    "            cate_name_list.append(np.nan)\n",
    "        elif i in issame:\n",
    "            category_list.append(int(issame.index(i)))\n",
    "            cate_name_list.append(fullcate.iloc[int(issame.index(i))])\n",
    "        else:\n",
    "            category_list.append('판매종료상품')\n",
    "            cate_name_list.append('판매종료상품')\n",
    "\n",
    "    large_category =[]\n",
    "    middle_category = []\n",
    "    small_category = []\n",
    "\n",
    "    for i in cate_name_list:\n",
    "        try:\n",
    "            temp_list = i.split(' ')\n",
    "        except:\n",
    "            temp_list = []\n",
    "\n",
    "        if len(temp_list) != 3:\n",
    "            large_category.append(np.nan)\n",
    "            middle_category.append(np.nan)\n",
    "            small_category.append(np.nan)\n",
    "        else:\n",
    "            large_category.append(temp_list[0])\n",
    "            middle_category.append(temp_list[1])\n",
    "            small_category.append(temp_list[2])\n",
    "\n",
    "    return category_list, cate_name_list,large_category,middle_category,small_category"
   ]
  },
  {
   "cell_type": "code",
   "execution_count": 78,
   "metadata": {},
   "outputs": [],
   "source": [
    "df_qna['get_category'], df_qna['category_name'],df_qna['large_category'],df_qna['middle_category'],df_qna['small_category'] = get_category(df_qna['product_name'],df_product['title'],df_product['full_category'])"
   ]
  },
  {
   "cell_type": "markdown",
   "metadata": {},
   "source": [
    "- 월별 날짜 묶기"
   ]
  },
  {
   "cell_type": "code",
   "execution_count": 86,
   "metadata": {},
   "outputs": [],
   "source": [
    "df_qna['date'] = df_qna['date'].apply(lambda x : pd.to_datetime(x).strftime(\"%Y-%m\"))"
   ]
  },
  {
   "cell_type": "code",
   "execution_count": 88,
   "metadata": {},
   "outputs": [
    {
     "data": {
      "text/html": [
       "<div>\n",
       "<style scoped>\n",
       "    .dataframe tbody tr th:only-of-type {\n",
       "        vertical-align: middle;\n",
       "    }\n",
       "\n",
       "    .dataframe tbody tr th {\n",
       "        vertical-align: top;\n",
       "    }\n",
       "\n",
       "    .dataframe thead th {\n",
       "        text-align: right;\n",
       "    }\n",
       "</style>\n",
       "<table border=\"1\" class=\"dataframe\">\n",
       "  <thead>\n",
       "    <tr style=\"text-align: right;\">\n",
       "      <th></th>\n",
       "      <th>_id</th>\n",
       "      <th>index_num</th>\n",
       "      <th>product_href</th>\n",
       "      <th>product_name</th>\n",
       "      <th>category</th>\n",
       "      <th>customer_name</th>\n",
       "      <th>date</th>\n",
       "      <th>get_category</th>\n",
       "      <th>category_name</th>\n",
       "      <th>large_category</th>\n",
       "      <th>middle_category</th>\n",
       "      <th>small_category</th>\n",
       "    </tr>\n",
       "  </thead>\n",
       "  <tbody>\n",
       "    <tr>\n",
       "      <th>0</th>\n",
       "      <td>6631b8fae29b6ec61bcab039</td>\n",
       "      <td>23134</td>\n",
       "      <td>https://wiggle-wiggle.com/product/$1/$2/</td>\n",
       "      <td>-</td>\n",
       "      <td>상품 문의</td>\n",
       "      <td>나****</td>\n",
       "      <td>2024-05</td>\n",
       "      <td>NaN</td>\n",
       "      <td>NaN</td>\n",
       "      <td>NaN</td>\n",
       "      <td>NaN</td>\n",
       "      <td>NaN</td>\n",
       "    </tr>\n",
       "    <tr>\n",
       "      <th>1</th>\n",
       "      <td>6631b8fae29b6ec61bcab03a</td>\n",
       "      <td>23133</td>\n",
       "      <td>https://wiggle-wiggle.com/product/$1/$2/</td>\n",
       "      <td>-</td>\n",
       "      <td>교환/환불 문의</td>\n",
       "      <td>김****</td>\n",
       "      <td>2024-05</td>\n",
       "      <td>NaN</td>\n",
       "      <td>NaN</td>\n",
       "      <td>NaN</td>\n",
       "      <td>NaN</td>\n",
       "      <td>NaN</td>\n",
       "    </tr>\n",
       "    <tr>\n",
       "      <th>2</th>\n",
       "      <td>6631b8fbe29b6ec61bcab03b</td>\n",
       "      <td>23132</td>\n",
       "      <td>https://wiggle-wiggle.com/product/%EB%B3%B4%EA...</td>\n",
       "      <td>[보그스X위글위글] 아동용 레인부츠 - BLUE</td>\n",
       "      <td>상품 문의</td>\n",
       "      <td>박****</td>\n",
       "      <td>2024-05</td>\n",
       "      <td>142</td>\n",
       "      <td>fashion 신발 -</td>\n",
       "      <td>fashion</td>\n",
       "      <td>신발</td>\n",
       "      <td>-</td>\n",
       "    </tr>\n",
       "    <tr>\n",
       "      <th>3</th>\n",
       "      <td>6631b8fbe29b6ec61bcab03c</td>\n",
       "      <td>23131</td>\n",
       "      <td>https://wiggle-wiggle.com/product/%ED%92%80%EB...</td>\n",
       "      <td>풀림방지 실리콘참 3 SET - Cherry</td>\n",
       "      <td>상품 문의</td>\n",
       "      <td>박****</td>\n",
       "      <td>2024-05</td>\n",
       "      <td>162</td>\n",
       "      <td>fashion 액세서리 실리콘참</td>\n",
       "      <td>fashion</td>\n",
       "      <td>액세서리</td>\n",
       "      <td>실리콘참</td>\n",
       "    </tr>\n",
       "    <tr>\n",
       "      <th>4</th>\n",
       "      <td>6631b8fbe29b6ec61bcab03d</td>\n",
       "      <td>23130</td>\n",
       "      <td>https://wiggle-wiggle.com/product/sk%EB%A7%A4%...</td>\n",
       "      <td>[SK매직X위글위글] 미니 정수기</td>\n",
       "      <td>상품 문의</td>\n",
       "      <td>김****</td>\n",
       "      <td>2024-05</td>\n",
       "      <td>272</td>\n",
       "      <td>electronics - -</td>\n",
       "      <td>electronics</td>\n",
       "      <td>-</td>\n",
       "      <td>-</td>\n",
       "    </tr>\n",
       "  </tbody>\n",
       "</table>\n",
       "</div>"
      ],
      "text/plain": [
       "                        _id  index_num  \\\n",
       "0  6631b8fae29b6ec61bcab039      23134   \n",
       "1  6631b8fae29b6ec61bcab03a      23133   \n",
       "2  6631b8fbe29b6ec61bcab03b      23132   \n",
       "3  6631b8fbe29b6ec61bcab03c      23131   \n",
       "4  6631b8fbe29b6ec61bcab03d      23130   \n",
       "\n",
       "                                        product_href  \\\n",
       "0           https://wiggle-wiggle.com/product/$1/$2/   \n",
       "1           https://wiggle-wiggle.com/product/$1/$2/   \n",
       "2  https://wiggle-wiggle.com/product/%EB%B3%B4%EA...   \n",
       "3  https://wiggle-wiggle.com/product/%ED%92%80%EB...   \n",
       "4  https://wiggle-wiggle.com/product/sk%EB%A7%A4%...   \n",
       "\n",
       "                 product_name  category customer_name     date get_category  \\\n",
       "0                           -     상품 문의         나****  2024-05          NaN   \n",
       "1                           -  교환/환불 문의         김****  2024-05          NaN   \n",
       "2  [보그스X위글위글] 아동용 레인부츠 - BLUE     상품 문의         박****  2024-05          142   \n",
       "3    풀림방지 실리콘참 3 SET - Cherry     상품 문의         박****  2024-05          162   \n",
       "4          [SK매직X위글위글] 미니 정수기     상품 문의         김****  2024-05          272   \n",
       "\n",
       "       category_name large_category middle_category small_category  \n",
       "0                NaN            NaN             NaN            NaN  \n",
       "1                NaN            NaN             NaN            NaN  \n",
       "2       fashion 신발 -        fashion              신발              -  \n",
       "3  fashion 액세서리 실리콘참        fashion            액세서리           실리콘참  \n",
       "4    electronics - -    electronics               -              -  "
      ]
     },
     "execution_count": 88,
     "metadata": {},
     "output_type": "execute_result"
    }
   ],
   "source": [
    "df_qna[:5]"
   ]
  },
  {
   "cell_type": "markdown",
   "metadata": {},
   "source": [
    "### 카테고리 별 문의 수"
   ]
  },
  {
   "cell_type": "code",
   "execution_count": 80,
   "metadata": {},
   "outputs": [
    {
     "data": {
      "text/plain": [
       "large_category\n",
       "fashion        3613\n",
       "living         2945\n",
       "digital        1848\n",
       "outdoor        1479\n",
       "family          293\n",
       "collabo          60\n",
       "electronics      38\n",
       "Name: count, dtype: int64"
      ]
     },
     "execution_count": 80,
     "metadata": {},
     "output_type": "execute_result"
    }
   ],
   "source": [
    "df_qna.value_counts('large_category')"
   ]
  },
  {
   "cell_type": "markdown",
   "metadata": {},
   "source": [
    "### 상품 별 문의 수"
   ]
  },
  {
   "cell_type": "code",
   "execution_count": 59,
   "metadata": {},
   "outputs": [
    {
     "data": {
      "text/plain": [
       "product_name\n",
       "-                                5138\n",
       "[앱코X위글위글] 키보드 - Color Mix         597\n",
       "보냉백(S/L) - Smile We Love          489\n",
       "레디백                               445\n",
       "보냉백(L) - Smile We Love            415\n",
       "                                 ... \n",
       "파자마 세트(롱) - Wild And Free           1\n",
       "양면 버킷햇 - Greenery Check             1\n",
       "암막 양우산 - Smile We Love Safari       1\n",
       "노즈워크 장난감 - Lobster                  1\n",
       "[주문제작] 하드케이스 - Cherry               1\n",
       "Name: count, Length: 789, dtype: int64"
      ]
     },
     "execution_count": 59,
     "metadata": {},
     "output_type": "execute_result"
    }
   ],
   "source": [
    "df_qna.value_counts('product_name')"
   ]
  },
  {
   "cell_type": "markdown",
   "metadata": {},
   "source": [
    "### 문의 종류"
   ]
  },
  {
   "cell_type": "code",
   "execution_count": 82,
   "metadata": {},
   "outputs": [
    {
     "data": {
      "text/plain": [
       "category\n",
       "상품 문의              14387\n",
       "배송 문의               2278\n",
       "기타 문의               2185\n",
       "교환/환불 문의            1806\n",
       "재입고                  586\n",
       "                   ...  \n",
       "사이즈 문의 드립니다!           1\n",
       "사이즈 문의드립니다!            1\n",
       "사이즈 변경                 1\n",
       "사이즈 변경 가능할까요? ㅠ        1\n",
       "회원탈퇴요청드립니다.            1\n",
       "Name: count, Length: 1107, dtype: int64"
      ]
     },
     "execution_count": 82,
     "metadata": {},
     "output_type": "execute_result"
    }
   ],
   "source": [
    "df_qna.value_counts('category')\n"
   ]
  },
  {
   "cell_type": "markdown",
   "metadata": {},
   "source": [
    "### 기간별 문의 수"
   ]
  },
  {
   "cell_type": "code",
   "execution_count": 89,
   "metadata": {},
   "outputs": [
    {
     "data": {
      "text/plain": [
       "date\n",
       "2023-02    2118\n",
       "2023-07    2098\n",
       "2022-08    2018\n",
       "2022-12    1599\n",
       "2023-09    1566\n",
       "2023-12    1351\n",
       "2024-02    1306\n",
       "2022-09    1167\n",
       "2024-03    1079\n",
       "2023-04    1021\n",
       "2023-08     975\n",
       "2023-05     939\n",
       "2023-06     890\n",
       "2022-10     881\n",
       "2022-11     880\n",
       "2023-10     816\n",
       "2023-11     773\n",
       "2023-03     741\n",
       "2023-01     712\n",
       "2024-04     673\n",
       "2024-01     670\n",
       "2022-07     101\n",
       "2021-09      82\n",
       "2024-05       9\n",
       "Name: count, dtype: int64"
      ]
     },
     "execution_count": 89,
     "metadata": {},
     "output_type": "execute_result"
    }
   ],
   "source": [
    "df_qna.value_counts('date')"
   ]
  },
  {
   "cell_type": "code",
   "execution_count": null,
   "metadata": {},
   "outputs": [],
   "source": []
  }
 ],
 "metadata": {
  "kernelspec": {
   "display_name": "Python 3",
   "language": "python",
   "name": "python3"
  },
  "language_info": {
   "codemirror_mode": {
    "name": "ipython",
    "version": 3
   },
   "file_extension": ".py",
   "mimetype": "text/x-python",
   "name": "python",
   "nbconvert_exporter": "python",
   "pygments_lexer": "ipython3",
   "version": "3.10.7"
  }
 },
 "nbformat": 4,
 "nbformat_minor": 2
}
