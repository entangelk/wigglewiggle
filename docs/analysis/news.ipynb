{
 "cells": [
  {
   "cell_type": "code",
   "execution_count": 1,
   "metadata": {},
   "outputs": [],
   "source": [
    "import pandas as pd\n",
    "import matplotlib.pyplot as plt\n",
    "import seaborn as sns\n",
    "\n",
    "from datetime import datetime\n",
    "import numpy as np\n",
    "\n",
    "import warnings\n",
    "warnings.filterwarnings('ignore')\n",
    "\n",
    "plt.rcParams['font.family'] = 'Malgun Gothic'\n",
    "# plt.rcParams['font.family'] = 'BMJUA_ttf'"
   ]
  },
  {
   "cell_type": "code",
   "execution_count": 2,
   "metadata": {},
   "outputs": [],
   "source": [
    "df_news = pd.read_csv('../data/wiggle.news.csv')"
   ]
  },
  {
   "cell_type": "code",
   "execution_count": 3,
   "metadata": {},
   "outputs": [],
   "source": [
    "df_news = df_news.drop(columns=['_id','news_brand'])"
   ]
  },
  {
   "cell_type": "code",
   "execution_count": 4,
   "metadata": {},
   "outputs": [],
   "source": [
    "# 결측치 처리\n",
    "while True:\n",
    "    nan_list = df_news.query('news_date.isna()').index\n",
    "\n",
    "    for i in nan_list:\n",
    "        try:\n",
    "            df_news['news_date'].iloc[i] = df_news['news_date'].iloc[i+1]\n",
    "        except:\n",
    "            pass\n",
    "\n",
    "    if len(nan_list) == 0:\n",
    "        break"
   ]
  },
  {
   "cell_type": "code",
   "execution_count": 5,
   "metadata": {},
   "outputs": [],
   "source": [
    "# 날짜 형식 변경\n",
    "def to_datetime(get_list):\n",
    "    change_list = list()\n",
    "    for i in get_list:\n",
    "        date = ''\n",
    "        try:\n",
    "            temp_list = i.split('. ')\n",
    "            date += temp_list[0]\n",
    "            date += '-'\n",
    "\n",
    "            if len(temp_list[1]) == 1:\n",
    "                date += '0'\n",
    "                date += temp_list[1]\n",
    "            else:\n",
    "                date += temp_list[1]\n",
    "\n",
    "            change_list.append(date)\n",
    "        except:\n",
    "            change_list.append(np.nan)\n",
    "\n",
    "    return change_list"
   ]
  },
  {
   "cell_type": "code",
   "execution_count": 6,
   "metadata": {},
   "outputs": [],
   "source": [
    "df_news['news_date'] = to_datetime(df_news['news_date'])"
   ]
  },
  {
   "cell_type": "markdown",
   "metadata": {},
   "source": [
    "## 뉴스 전처리"
   ]
  },
  {
   "cell_type": "code",
   "execution_count": 10,
   "metadata": {},
   "outputs": [],
   "source": [
    "# 영어, 한글만 선택\n",
    "import re\n",
    "\n",
    "def replace_text(text):\n",
    "    text = text.replace('\\\\n',' ')\n",
    "    text = re.sub(r'[^a-zA-Z가-힣\\s]',' ',text)\n",
    "    return text"
   ]
  },
  {
   "cell_type": "code",
   "execution_count": 12,
   "metadata": {},
   "outputs": [],
   "source": [
    "df_news['newText'] = df_news['news_title'] + ' ' + df_news['news_contents']\n",
    "df_news['newText'] = df_news['newText'].apply(replace_text)"
   ]
  },
  {
   "cell_type": "code",
   "execution_count": null,
   "metadata": {},
   "outputs": [],
   "source": []
  }
 ],
 "metadata": {
  "kernelspec": {
   "display_name": "Python 3",
   "language": "python",
   "name": "python3"
  },
  "language_info": {
   "codemirror_mode": {
    "name": "ipython",
    "version": 3
   },
   "file_extension": ".py",
   "mimetype": "text/x-python",
   "name": "python",
   "nbconvert_exporter": "python",
   "pygments_lexer": "ipython3",
   "version": "3.10.7"
  }
 },
 "nbformat": 4,
 "nbformat_minor": 2
}
